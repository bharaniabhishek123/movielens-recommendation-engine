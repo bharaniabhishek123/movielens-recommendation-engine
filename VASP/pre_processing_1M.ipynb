{
 "cells": [
  {
   "cell_type": "code",
   "execution_count": 16,
   "metadata": {},
   "outputs": [],
   "source": [
    "import pandas as pd"
   ]
  },
  {
   "cell_type": "code",
   "execution_count": 17,
   "metadata": {},
   "outputs": [
    {
     "data": {
      "text/html": [
       "<div>\n",
       "<style scoped>\n",
       "    .dataframe tbody tr th:only-of-type {\n",
       "        vertical-align: middle;\n",
       "    }\n",
       "\n",
       "    .dataframe tbody tr th {\n",
       "        vertical-align: top;\n",
       "    }\n",
       "\n",
       "    .dataframe thead th {\n",
       "        text-align: right;\n",
       "    }\n",
       "</style>\n",
       "<table border=\"1\" class=\"dataframe\">\n",
       "  <thead>\n",
       "    <tr style=\"text-align: right;\">\n",
       "      <th></th>\n",
       "      <th>itemid</th>\n",
       "      <th>product_name</th>\n",
       "      <th>genres</th>\n",
       "    </tr>\n",
       "  </thead>\n",
       "  <tbody>\n",
       "    <tr>\n",
       "      <th>0</th>\n",
       "      <td>1</td>\n",
       "      <td>Toy Story (1995)</td>\n",
       "      <td>Animation|Children's|Comedy</td>\n",
       "    </tr>\n",
       "    <tr>\n",
       "      <th>1</th>\n",
       "      <td>2</td>\n",
       "      <td>Jumanji (1995)</td>\n",
       "      <td>Adventure|Children's|Fantasy</td>\n",
       "    </tr>\n",
       "    <tr>\n",
       "      <th>2</th>\n",
       "      <td>3</td>\n",
       "      <td>Grumpier Old Men (1995)</td>\n",
       "      <td>Comedy|Romance</td>\n",
       "    </tr>\n",
       "    <tr>\n",
       "      <th>3</th>\n",
       "      <td>4</td>\n",
       "      <td>Waiting to Exhale (1995)</td>\n",
       "      <td>Comedy|Drama</td>\n",
       "    </tr>\n",
       "    <tr>\n",
       "      <th>4</th>\n",
       "      <td>5</td>\n",
       "      <td>Father of the Bride Part II (1995)</td>\n",
       "      <td>Comedy</td>\n",
       "    </tr>\n",
       "    <tr>\n",
       "      <th>...</th>\n",
       "      <td>...</td>\n",
       "      <td>...</td>\n",
       "      <td>...</td>\n",
       "    </tr>\n",
       "    <tr>\n",
       "      <th>3878</th>\n",
       "      <td>3948</td>\n",
       "      <td>Meet the Parents (2000)</td>\n",
       "      <td>Comedy</td>\n",
       "    </tr>\n",
       "    <tr>\n",
       "      <th>3879</th>\n",
       "      <td>3949</td>\n",
       "      <td>Requiem for a Dream (2000)</td>\n",
       "      <td>Drama</td>\n",
       "    </tr>\n",
       "    <tr>\n",
       "      <th>3880</th>\n",
       "      <td>3950</td>\n",
       "      <td>Tigerland (2000)</td>\n",
       "      <td>Drama</td>\n",
       "    </tr>\n",
       "    <tr>\n",
       "      <th>3881</th>\n",
       "      <td>3951</td>\n",
       "      <td>Two Family House (2000)</td>\n",
       "      <td>Drama</td>\n",
       "    </tr>\n",
       "    <tr>\n",
       "      <th>3882</th>\n",
       "      <td>3952</td>\n",
       "      <td>Contender, The (2000)</td>\n",
       "      <td>Drama|Thriller</td>\n",
       "    </tr>\n",
       "  </tbody>\n",
       "</table>\n",
       "<p>3883 rows × 3 columns</p>\n",
       "</div>"
      ],
      "text/plain": [
       "     itemid                        product_name                        genres\n",
       "0         1                    Toy Story (1995)   Animation|Children's|Comedy\n",
       "1         2                      Jumanji (1995)  Adventure|Children's|Fantasy\n",
       "2         3             Grumpier Old Men (1995)                Comedy|Romance\n",
       "3         4            Waiting to Exhale (1995)                  Comedy|Drama\n",
       "4         5  Father of the Bride Part II (1995)                        Comedy\n",
       "...     ...                                 ...                           ...\n",
       "3878   3948             Meet the Parents (2000)                        Comedy\n",
       "3879   3949          Requiem for a Dream (2000)                         Drama\n",
       "3880   3950                    Tigerland (2000)                         Drama\n",
       "3881   3951             Two Family House (2000)                         Drama\n",
       "3882   3952               Contender, The (2000)                Drama|Thriller\n",
       "\n",
       "[3883 rows x 3 columns]"
      ]
     },
     "execution_count": 17,
     "metadata": {},
     "output_type": "execute_result"
    }
   ],
   "source": [
    "m = pd.read_csv(\n",
    "    '../data/ml-1m/movies.dat',\n",
    "    sep=\"::\",\n",
    "    names=[\"movieId\", \"title\", \"genres\"],\n",
    "    encoding='latin-1',\n",
    "    engine='python'\n",
    ")\n",
    "m = m[m.movieId.notnull()].reindex()\n",
    "m['itemid']=m.movieId.apply(lambda x: str(int(x)))\n",
    "m['product_name'] = m['title']\n",
    "items = m[['itemid','product_name','genres']]\n",
    "# items.to_json('items.json')\n",
    "items"
   ]
  },
  {
   "cell_type": "code",
   "execution_count": 18,
   "metadata": {},
   "outputs": [],
   "source": [
    "items.to_json('../data/ml-1m/processed/items.json')"
   ]
  },
  {
   "cell_type": "markdown",
   "metadata": {},
   "source": [
    "### Purchases and grouped purchases."
   ]
  },
  {
   "cell_type": "code",
   "execution_count": 19,
   "metadata": {},
   "outputs": [
    {
     "name": "stdout",
     "output_type": "stream",
     "text": [
      "<class 'pandas.core.frame.DataFrame'>\n",
      "Int64Index: 575281 entries, 31 to 1000042\n",
      "Data columns (total 4 columns):\n",
      " #   Column     Non-Null Count   Dtype\n",
      "---  ------     --------------   -----\n",
      " 0   userId     575281 non-null  int64\n",
      " 1   movieId    575281 non-null  int64\n",
      " 2   rating     575281 non-null  int64\n",
      " 3   timestamp  575281 non-null  int64\n",
      "dtypes: int64(4)\n",
      "memory usage: 21.9 MB\n"
     ]
    }
   ],
   "source": [
    "interactions = pd.read_csv(\n",
    "    '../data/ml-1m/ratings.dat',\n",
    "    sep=\"::\",\n",
    "    names=[\"userId\", \"movieId\", \"rating\", \"timestamp\"],\n",
    "    encoding='latin-1',\n",
    "    engine='python'\n",
    ")\n",
    "interactions = interactions[interactions.rating>=4.0]\n",
    "interactions = interactions.sort_values(['userId','timestamp']) \n",
    "interactions.info()"
   ]
  },
  {
   "cell_type": "code",
   "execution_count": 20,
   "metadata": {},
   "outputs": [
    {
     "data": {
      "text/html": [
       "<div>\n",
       "<style scoped>\n",
       "    .dataframe tbody tr th:only-of-type {\n",
       "        vertical-align: middle;\n",
       "    }\n",
       "\n",
       "    .dataframe tbody tr th {\n",
       "        vertical-align: top;\n",
       "    }\n",
       "\n",
       "    .dataframe thead th {\n",
       "        text-align: right;\n",
       "    }\n",
       "</style>\n",
       "<table border=\"1\" class=\"dataframe\">\n",
       "  <thead>\n",
       "    <tr style=\"text-align: right;\">\n",
       "      <th></th>\n",
       "      <th>userId</th>\n",
       "      <th>movieId</th>\n",
       "      <th>rating</th>\n",
       "      <th>timestamp</th>\n",
       "      <th>itemid</th>\n",
       "      <th>userid</th>\n",
       "      <th>amount</th>\n",
       "      <th>date</th>\n",
       "    </tr>\n",
       "  </thead>\n",
       "  <tbody>\n",
       "    <tr>\n",
       "      <th>31</th>\n",
       "      <td>1</td>\n",
       "      <td>3186</td>\n",
       "      <td>4</td>\n",
       "      <td>978300019</td>\n",
       "      <td>3186</td>\n",
       "      <td>1</td>\n",
       "      <td>1</td>\n",
       "      <td>978300019</td>\n",
       "    </tr>\n",
       "    <tr>\n",
       "      <th>22</th>\n",
       "      <td>1</td>\n",
       "      <td>1270</td>\n",
       "      <td>5</td>\n",
       "      <td>978300055</td>\n",
       "      <td>1270</td>\n",
       "      <td>1</td>\n",
       "      <td>1</td>\n",
       "      <td>978300055</td>\n",
       "    </tr>\n",
       "    <tr>\n",
       "      <th>27</th>\n",
       "      <td>1</td>\n",
       "      <td>1721</td>\n",
       "      <td>4</td>\n",
       "      <td>978300055</td>\n",
       "      <td>1721</td>\n",
       "      <td>1</td>\n",
       "      <td>1</td>\n",
       "      <td>978300055</td>\n",
       "    </tr>\n",
       "    <tr>\n",
       "      <th>37</th>\n",
       "      <td>1</td>\n",
       "      <td>1022</td>\n",
       "      <td>5</td>\n",
       "      <td>978300055</td>\n",
       "      <td>1022</td>\n",
       "      <td>1</td>\n",
       "      <td>1</td>\n",
       "      <td>978300055</td>\n",
       "    </tr>\n",
       "    <tr>\n",
       "      <th>36</th>\n",
       "      <td>1</td>\n",
       "      <td>1836</td>\n",
       "      <td>5</td>\n",
       "      <td>978300172</td>\n",
       "      <td>1836</td>\n",
       "      <td>1</td>\n",
       "      <td>1</td>\n",
       "      <td>978300172</td>\n",
       "    </tr>\n",
       "    <tr>\n",
       "      <th>...</th>\n",
       "      <td>...</td>\n",
       "      <td>...</td>\n",
       "      <td>...</td>\n",
       "      <td>...</td>\n",
       "      <td>...</td>\n",
       "      <td>...</td>\n",
       "      <td>...</td>\n",
       "      <td>...</td>\n",
       "    </tr>\n",
       "    <tr>\n",
       "      <th>1000119</th>\n",
       "      <td>6040</td>\n",
       "      <td>3671</td>\n",
       "      <td>4</td>\n",
       "      <td>997454367</td>\n",
       "      <td>3671</td>\n",
       "      <td>6040</td>\n",
       "      <td>1</td>\n",
       "      <td>997454367</td>\n",
       "    </tr>\n",
       "    <tr>\n",
       "      <th>999923</th>\n",
       "      <td>6040</td>\n",
       "      <td>232</td>\n",
       "      <td>5</td>\n",
       "      <td>997454398</td>\n",
       "      <td>232</td>\n",
       "      <td>6040</td>\n",
       "      <td>1</td>\n",
       "      <td>997454398</td>\n",
       "    </tr>\n",
       "    <tr>\n",
       "      <th>1000019</th>\n",
       "      <td>6040</td>\n",
       "      <td>2917</td>\n",
       "      <td>4</td>\n",
       "      <td>997454429</td>\n",
       "      <td>2917</td>\n",
       "      <td>6040</td>\n",
       "      <td>1</td>\n",
       "      <td>997454429</td>\n",
       "    </tr>\n",
       "    <tr>\n",
       "      <th>999988</th>\n",
       "      <td>6040</td>\n",
       "      <td>1921</td>\n",
       "      <td>4</td>\n",
       "      <td>997454464</td>\n",
       "      <td>1921</td>\n",
       "      <td>6040</td>\n",
       "      <td>1</td>\n",
       "      <td>997454464</td>\n",
       "    </tr>\n",
       "    <tr>\n",
       "      <th>1000042</th>\n",
       "      <td>6040</td>\n",
       "      <td>1221</td>\n",
       "      <td>4</td>\n",
       "      <td>998315055</td>\n",
       "      <td>1221</td>\n",
       "      <td>6040</td>\n",
       "      <td>1</td>\n",
       "      <td>998315055</td>\n",
       "    </tr>\n",
       "  </tbody>\n",
       "</table>\n",
       "<p>575281 rows × 8 columns</p>\n",
       "</div>"
      ],
      "text/plain": [
       "         userId  movieId  rating  timestamp itemid userid  amount       date\n",
       "31            1     3186       4  978300019   3186      1       1  978300019\n",
       "22            1     1270       5  978300055   1270      1       1  978300055\n",
       "27            1     1721       4  978300055   1721      1       1  978300055\n",
       "37            1     1022       5  978300055   1022      1       1  978300055\n",
       "36            1     1836       5  978300172   1836      1       1  978300172\n",
       "...         ...      ...     ...        ...    ...    ...     ...        ...\n",
       "1000119    6040     3671       4  997454367   3671   6040       1  997454367\n",
       "999923     6040      232       5  997454398    232   6040       1  997454398\n",
       "1000019    6040     2917       4  997454429   2917   6040       1  997454429\n",
       "999988     6040     1921       4  997454464   1921   6040       1  997454464\n",
       "1000042    6040     1221       4  998315055   1221   6040       1  998315055\n",
       "\n",
       "[575281 rows x 8 columns]"
      ]
     },
     "execution_count": 20,
     "metadata": {},
     "output_type": "execute_result"
    }
   ],
   "source": [
    "interactions['itemid'] = interactions['movieId'].apply(str)\n",
    "interactions['userid'] = interactions['userId'].apply(str)\n",
    "interactions['amount'] = 1\n",
    "interactions['date'] = interactions['timestamp']\n",
    "interactions[['itemid', 'userid','amount','date']]\n",
    "interactions"
   ]
  },
  {
   "cell_type": "code",
   "execution_count": 21,
   "metadata": {},
   "outputs": [],
   "source": [
    "interactions.to_json('../data/ml-1m/processed/purchases.json')"
   ]
  },
  {
   "cell_type": "code",
   "execution_count": 22,
   "metadata": {},
   "outputs": [
    {
     "data": {
      "text/html": [
       "<div>\n",
       "<style scoped>\n",
       "    .dataframe tbody tr th:only-of-type {\n",
       "        vertical-align: middle;\n",
       "    }\n",
       "\n",
       "    .dataframe tbody tr th {\n",
       "        vertical-align: top;\n",
       "    }\n",
       "\n",
       "    .dataframe thead th {\n",
       "        text-align: right;\n",
       "    }\n",
       "</style>\n",
       "<table border=\"1\" class=\"dataframe\">\n",
       "  <thead>\n",
       "    <tr style=\"text-align: right;\">\n",
       "      <th></th>\n",
       "      <th>userId</th>\n",
       "      <th>itemids</th>\n",
       "    </tr>\n",
       "  </thead>\n",
       "  <tbody>\n",
       "    <tr>\n",
       "      <th>31</th>\n",
       "      <td>1</td>\n",
       "      <td>3186,1270,1721,1022,1836,3408,2804,1207,1193,2...</td>\n",
       "    </tr>\n",
       "    <tr>\n",
       "      <th>130</th>\n",
       "      <td>2</td>\n",
       "      <td>1198,1210,1293,2943,1225,1193,318,3030,2858,19...</td>\n",
       "    </tr>\n",
       "    <tr>\n",
       "      <th>202</th>\n",
       "      <td>3</td>\n",
       "      <td>2858,1968,1961,1266,1378,1379,3671,590,260,119...</td>\n",
       "    </tr>\n",
       "    <tr>\n",
       "      <th>244</th>\n",
       "      <td>4</td>\n",
       "      <td>1097,3468,480,260,1198,1387,2028,2366,1201,269...</td>\n",
       "    </tr>\n",
       "    <tr>\n",
       "      <th>378</th>\n",
       "      <td>5</td>\n",
       "      <td>908,919,1250,2858,2997,2770,2355,2908,3016,259...</td>\n",
       "    </tr>\n",
       "    <tr>\n",
       "      <th>...</th>\n",
       "      <td>...</td>\n",
       "      <td>...</td>\n",
       "    </tr>\n",
       "    <tr>\n",
       "      <th>999375</th>\n",
       "      <td>6036</td>\n",
       "      <td>1721,1883,2858,2997,2710,223,3203,1093,3408,25...</td>\n",
       "    </tr>\n",
       "    <tr>\n",
       "      <th>999658</th>\n",
       "      <td>6037</td>\n",
       "      <td>1267,2028,3148,858,562,912,1221,923,2804,2858,...</td>\n",
       "    </tr>\n",
       "    <tr>\n",
       "      <th>999735</th>\n",
       "      <td>6038</td>\n",
       "      <td>1210,2146,356,1079,1148,3548,3088,232,1136,122...</td>\n",
       "    </tr>\n",
       "    <tr>\n",
       "      <th>999794</th>\n",
       "      <td>6039</td>\n",
       "      <td>282,111,2067,930,3022,3088,2804,955,1276,2791,...</td>\n",
       "    </tr>\n",
       "    <tr>\n",
       "      <th>1000138</th>\n",
       "      <td>6040</td>\n",
       "      <td>858,593,2384,1961,2019,573,213,3111,3505,912,9...</td>\n",
       "    </tr>\n",
       "  </tbody>\n",
       "</table>\n",
       "<p>6038 rows × 2 columns</p>\n",
       "</div>"
      ],
      "text/plain": [
       "         userId                                            itemids\n",
       "31            1  3186,1270,1721,1022,1836,3408,2804,1207,1193,2...\n",
       "130           2  1198,1210,1293,2943,1225,1193,318,3030,2858,19...\n",
       "202           3  2858,1968,1961,1266,1378,1379,3671,590,260,119...\n",
       "244           4  1097,3468,480,260,1198,1387,2028,2366,1201,269...\n",
       "378           5  908,919,1250,2858,2997,2770,2355,2908,3016,259...\n",
       "...         ...                                                ...\n",
       "999375     6036  1721,1883,2858,2997,2710,223,3203,1093,3408,25...\n",
       "999658     6037  1267,2028,3148,858,562,912,1221,923,2804,2858,...\n",
       "999735     6038  1210,2146,356,1079,1148,3548,3088,232,1136,122...\n",
       "999794     6039  282,111,2067,930,3022,3088,2804,955,1276,2791,...\n",
       "1000138    6040  858,593,2384,1961,2019,573,213,3111,3505,912,9...\n",
       "\n",
       "[6038 rows x 2 columns]"
      ]
     },
     "execution_count": 22,
     "metadata": {},
     "output_type": "execute_result"
    }
   ],
   "source": [
    "interactions['itemids'] = interactions[['userid','itemid']].groupby(['userid'])['itemid'].transform(lambda x : ','.join(x))\n",
    "iii = interactions[['userId','itemids']].drop_duplicates()\n",
    "iii"
   ]
  },
  {
   "cell_type": "code",
   "execution_count": 23,
   "metadata": {},
   "outputs": [],
   "source": [
    "iii.to_json('../data/ml-1m/processed/purchases_txt.json')"
   ]
  },
  {
   "cell_type": "code",
   "execution_count": 24,
   "metadata": {},
   "outputs": [],
   "source": [
    "purchases=pd.read_json('../data/ml-1m/processed/purchases.json')\n",
    "purchases['userid'] = purchases.userid.apply(str)\n",
    "purchases['itemid'] = purchases.itemid.apply(str)\n",
    "purchases_item_counts = purchases[['userid','itemid']]\n",
    "purchases_user_counts = purchases[['userid','itemid']]\n",
    "purchases_user_count = purchases.groupby(['userid']).size().to_frame('nr_of_purchases').reset_index()\n",
    "purchases_user_count = purchases_user_count.sort_values(by=['nr_of_purchases'], ascending=False)\n",
    "pu5=purchases_user_count[purchases_user_count.nr_of_purchases>=5]\n",
    "purchases_pu5 = purchases[purchases.userid.isin(pu5.userid)]\n",
    "purchases_item_count_pu5 = purchases_pu5.groupby(['itemid']).size().to_frame('nr_of_purchases').reset_index()\n",
    "purchases_item_count_pu5 = purchases_item_count_pu5.sort_values(by=['nr_of_purchases'], ascending=False)\n"
   ]
  },
  {
   "cell_type": "code",
   "execution_count": 25,
   "metadata": {},
   "outputs": [],
   "source": [
    "purchases_pu5.to_json('../data/ml-1m/processed/purchases_pu5.json')"
   ]
  },
  {
   "cell_type": "code",
   "execution_count": 26,
   "metadata": {},
   "outputs": [
    {
     "name": "stderr",
     "output_type": "stream",
     "text": [
      "<ipython-input-26-dca95e343ced>:1: SettingWithCopyWarning: \n",
      "A value is trying to be set on a copy of a slice from a DataFrame.\n",
      "Try using .loc[row_indexer,col_indexer] = value instead\n",
      "\n",
      "See the caveats in the documentation: https://pandas.pydata.org/pandas-docs/stable/user_guide/indexing.html#returning-a-view-versus-a-copy\n",
      "  purchases_pu5['itemids'] = purchases_pu5[['userid','itemid']].groupby(['userid'])['itemid'].transform(lambda x: ','.join(x))\n"
     ]
    }
   ],
   "source": [
    "purchases_pu5['itemids'] = purchases_pu5[['userid','itemid']].groupby(['userid'])['itemid'].transform(lambda x: ','.join(x))\n",
    "iii = purchases_pu5[['userId','itemids']].drop_duplicates()\n",
    "iii['userid']=iii['userId'].apply(str)\n",
    "iii = iii[['userid','itemids']]\n"
   ]
  },
  {
   "cell_type": "code",
   "execution_count": 27,
   "metadata": {},
   "outputs": [],
   "source": [
    "iii.to_json('../data/ml-1m/processed/purchases_txt_pu5.json')"
   ]
  },
  {
   "cell_type": "code",
   "execution_count": 28,
   "metadata": {},
   "outputs": [],
   "source": [
    "iii['userid'].to_frame().to_json('../data/ml-1m/processed/users_pu5.json')"
   ]
  },
  {
   "cell_type": "code",
   "execution_count": 29,
   "metadata": {},
   "outputs": [],
   "source": [
    "\n",
    "items[items.itemid.isin(purchases_item_count_pu5.itemid)].to_json(\"../data/ml-1m/processed/items_pu5.json\")"
   ]
  },
  {
   "cell_type": "code",
   "execution_count": 30,
   "metadata": {},
   "outputs": [],
   "source": [
    "purchases_item_count_pu5.to_json(\"../data/ml-1m/processed/items_sorted_pu5.json\")"
   ]
  },
  {
   "cell_type": "code",
   "execution_count": 31,
   "metadata": {},
   "outputs": [],
   "source": [
    "\n",
    "pu5.to_json(\"../data/ml-1m/processed/users_sorted_pu5.json\")"
   ]
  },
  {
   "cell_type": "code",
   "execution_count": 32,
   "metadata": {},
   "outputs": [
    {
     "name": "stdout",
     "output_type": "stream",
     "text": [
      "Total number of users in pu5 6034\n"
     ]
    },
    {
     "data": {
      "text/plain": [
       "(3634, 1200, 1200)"
      ]
     },
     "execution_count": 32,
     "metadata": {},
     "output_type": "execute_result"
    }
   ],
   "source": [
    "\n",
    "users = pd.read_json('../data/ml-1m/processed/users_pu5.json')\n",
    "shuffled_users = users.sample(frac=1., random_state=42)\n",
    "test_users = shuffled_users.iloc[:1200]\n",
    "val_users = shuffled_users.iloc[1200:2400]\n",
    "train_users = shuffled_users.iloc[2400:]\n",
    "\n",
    "test_users.to_json(\"../data/ml-1m/processed/test_users.json\")\n",
    "val_users.to_json(\"../data/ml-1m/processed/val_users.json\")\n",
    "train_users.to_json(\"../data/ml-1m/processed/train_users.json\") \n",
    "print(\"Total number of users in pu5\", len(users))\n",
    "len(train_users),len(val_users),len(test_users)"
   ]
  },
  {
   "cell_type": "code",
   "execution_count": 33,
   "metadata": {},
   "outputs": [
    {
     "name": "stdout",
     "output_type": "stream",
     "text": [
      "../data/ml-1m/processed/items.json\n",
      "../data/ml-1m/processed/items_pu5.json\n",
      "../data/ml-1m/processed/items_sorted_pu5.json\n",
      "../data/ml-1m/processed/purchases.json\n",
      "../data/ml-1m/processed/purchases_pu5.json\n",
      "../data/ml-1m/processed/purchases_txt.json\n",
      "../data/ml-1m/processed/purchases_txt_pu5.json\n",
      "../data/ml-1m/processed/test_users.json\n",
      "../data/ml-1m/processed/train_users.json\n",
      "../data/ml-1m/processed/users_pu5.json\n",
      "../data/ml-1m/processed/users_sorted_pu5.json\n",
      "../data/ml-1m/processed/val_users.json\n"
     ]
    }
   ],
   "source": [
    "!ls ../data/ml-1m/processed/*.json"
   ]
  },
  {
   "cell_type": "code",
   "execution_count": null,
   "metadata": {},
   "outputs": [],
   "source": []
  }
 ],
 "metadata": {
  "interpreter": {
   "hash": "c3aa81f53feaf22594607225e353cd7b61927a2847d5a10e1d40f929f7c9ceb6"
  },
  "kernelspec": {
   "display_name": "Python 3.8.5 ('airflow')",
   "language": "python",
   "name": "python3"
  },
  "language_info": {
   "codemirror_mode": {
    "name": "ipython",
    "version": 3
   },
   "file_extension": ".py",
   "mimetype": "text/x-python",
   "name": "python",
   "nbconvert_exporter": "python",
   "pygments_lexer": "ipython3",
   "version": "3.8.5"
  },
  "orig_nbformat": 4
 },
 "nbformat": 4,
 "nbformat_minor": 2
}
