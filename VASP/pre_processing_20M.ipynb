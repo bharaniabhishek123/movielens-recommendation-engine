{
 "cells": [
  {
   "cell_type": "code",
   "execution_count": 17,
   "metadata": {},
   "outputs": [],
   "source": [
    "import pandas as pd"
   ]
  },
  {
   "cell_type": "code",
   "execution_count": 13,
   "metadata": {},
   "outputs": [],
   "source": [
    "# !wget https://files.grouplens.org/datasets/movielens/ml-20m.zip"
   ]
  },
  {
   "cell_type": "code",
   "execution_count": 14,
   "metadata": {},
   "outputs": [],
   "source": [
    "# !unzip ml-20m.zip"
   ]
  },
  {
   "cell_type": "code",
   "execution_count": 3,
   "metadata": {},
   "outputs": [
    {
     "data": {
      "text/html": [
       "<div>\n",
       "<style scoped>\n",
       "    .dataframe tbody tr th:only-of-type {\n",
       "        vertical-align: middle;\n",
       "    }\n",
       "\n",
       "    .dataframe tbody tr th {\n",
       "        vertical-align: top;\n",
       "    }\n",
       "\n",
       "    .dataframe thead th {\n",
       "        text-align: right;\n",
       "    }\n",
       "</style>\n",
       "<table border=\"1\" class=\"dataframe\">\n",
       "  <thead>\n",
       "    <tr style=\"text-align: right;\">\n",
       "      <th></th>\n",
       "      <th>itemid</th>\n",
       "      <th>product_name</th>\n",
       "      <th>genres</th>\n",
       "    </tr>\n",
       "  </thead>\n",
       "  <tbody>\n",
       "    <tr>\n",
       "      <th>0</th>\n",
       "      <td>1</td>\n",
       "      <td>Toy Story (1995)</td>\n",
       "      <td>Adventure|Animation|Children|Comedy|Fantasy</td>\n",
       "    </tr>\n",
       "    <tr>\n",
       "      <th>1</th>\n",
       "      <td>2</td>\n",
       "      <td>Jumanji (1995)</td>\n",
       "      <td>Adventure|Children|Fantasy</td>\n",
       "    </tr>\n",
       "    <tr>\n",
       "      <th>2</th>\n",
       "      <td>3</td>\n",
       "      <td>Grumpier Old Men (1995)</td>\n",
       "      <td>Comedy|Romance</td>\n",
       "    </tr>\n",
       "    <tr>\n",
       "      <th>3</th>\n",
       "      <td>4</td>\n",
       "      <td>Waiting to Exhale (1995)</td>\n",
       "      <td>Comedy|Drama|Romance</td>\n",
       "    </tr>\n",
       "    <tr>\n",
       "      <th>4</th>\n",
       "      <td>5</td>\n",
       "      <td>Father of the Bride Part II (1995)</td>\n",
       "      <td>Comedy</td>\n",
       "    </tr>\n",
       "    <tr>\n",
       "      <th>...</th>\n",
       "      <td>...</td>\n",
       "      <td>...</td>\n",
       "      <td>...</td>\n",
       "    </tr>\n",
       "    <tr>\n",
       "      <th>27273</th>\n",
       "      <td>131254</td>\n",
       "      <td>Kein Bund für's Leben (2007)</td>\n",
       "      <td>Comedy</td>\n",
       "    </tr>\n",
       "    <tr>\n",
       "      <th>27274</th>\n",
       "      <td>131256</td>\n",
       "      <td>Feuer, Eis &amp; Dosenbier (2002)</td>\n",
       "      <td>Comedy</td>\n",
       "    </tr>\n",
       "    <tr>\n",
       "      <th>27275</th>\n",
       "      <td>131258</td>\n",
       "      <td>The Pirates (2014)</td>\n",
       "      <td>Adventure</td>\n",
       "    </tr>\n",
       "    <tr>\n",
       "      <th>27276</th>\n",
       "      <td>131260</td>\n",
       "      <td>Rentun Ruusu (2001)</td>\n",
       "      <td>(no genres listed)</td>\n",
       "    </tr>\n",
       "    <tr>\n",
       "      <th>27277</th>\n",
       "      <td>131262</td>\n",
       "      <td>Innocence (2014)</td>\n",
       "      <td>Adventure|Fantasy|Horror</td>\n",
       "    </tr>\n",
       "  </tbody>\n",
       "</table>\n",
       "<p>27278 rows × 3 columns</p>\n",
       "</div>"
      ],
      "text/plain": [
       "       itemid                        product_name  \\\n",
       "0           1                    Toy Story (1995)   \n",
       "1           2                      Jumanji (1995)   \n",
       "2           3             Grumpier Old Men (1995)   \n",
       "3           4            Waiting to Exhale (1995)   \n",
       "4           5  Father of the Bride Part II (1995)   \n",
       "...       ...                                 ...   \n",
       "27273  131254        Kein Bund für's Leben (2007)   \n",
       "27274  131256       Feuer, Eis & Dosenbier (2002)   \n",
       "27275  131258                  The Pirates (2014)   \n",
       "27276  131260                 Rentun Ruusu (2001)   \n",
       "27277  131262                    Innocence (2014)   \n",
       "\n",
       "                                            genres  \n",
       "0      Adventure|Animation|Children|Comedy|Fantasy  \n",
       "1                       Adventure|Children|Fantasy  \n",
       "2                                   Comedy|Romance  \n",
       "3                             Comedy|Drama|Romance  \n",
       "4                                           Comedy  \n",
       "...                                            ...  \n",
       "27273                                       Comedy  \n",
       "27274                                       Comedy  \n",
       "27275                                    Adventure  \n",
       "27276                           (no genres listed)  \n",
       "27277                     Adventure|Fantasy|Horror  \n",
       "\n",
       "[27278 rows x 3 columns]"
      ]
     },
     "execution_count": 3,
     "metadata": {},
     "output_type": "execute_result"
    }
   ],
   "source": [
    "m = pd.read_csv('../data/ml-20m/movies.csv')\n",
    "m = m[m.movieId.notnull()].reindex()\n",
    "m['itemid']=m.movieId.apply(lambda x: str(int(x)))\n",
    "m['product_name'] = m['title']\n",
    "items = m[['itemid','product_name','genres']]\n",
    "# items.to_json('items.json')\n",
    "items"
   ]
  },
  {
   "cell_type": "code",
   "execution_count": 41,
   "metadata": {},
   "outputs": [],
   "source": [
    "items.to_json('../data/ml-20m/processed/items.json')"
   ]
  },
  {
   "cell_type": "markdown",
   "metadata": {},
   "source": [
    "### Purchases and grouped purchases."
   ]
  },
  {
   "cell_type": "code",
   "execution_count": 4,
   "metadata": {},
   "outputs": [
    {
     "name": "stdout",
     "output_type": "stream",
     "text": [
      "<class 'pandas.core.frame.DataFrame'>\n",
      "Int64Index: 9995410 entries, 23 to 20000242\n",
      "Data columns (total 4 columns):\n",
      " #   Column     Dtype  \n",
      "---  ------     -----  \n",
      " 0   userId     int64  \n",
      " 1   movieId    int64  \n",
      " 2   rating     float64\n",
      " 3   timestamp  int64  \n",
      "dtypes: float64(1), int64(3)\n",
      "memory usage: 381.3 MB\n"
     ]
    }
   ],
   "source": [
    "interactions = pd.read_csv('../data/ml-20m/ratings.csv')\n",
    "interactions = interactions[interactions.rating>=4.0]\n",
    "interactions = interactions.sort_values(['userId','timestamp']) \n",
    "interactions.info()"
   ]
  },
  {
   "cell_type": "code",
   "execution_count": 5,
   "metadata": {},
   "outputs": [
    {
     "data": {
      "text/html": [
       "<div>\n",
       "<style scoped>\n",
       "    .dataframe tbody tr th:only-of-type {\n",
       "        vertical-align: middle;\n",
       "    }\n",
       "\n",
       "    .dataframe tbody tr th {\n",
       "        vertical-align: top;\n",
       "    }\n",
       "\n",
       "    .dataframe thead th {\n",
       "        text-align: right;\n",
       "    }\n",
       "</style>\n",
       "<table border=\"1\" class=\"dataframe\">\n",
       "  <thead>\n",
       "    <tr style=\"text-align: right;\">\n",
       "      <th></th>\n",
       "      <th>userId</th>\n",
       "      <th>movieId</th>\n",
       "      <th>rating</th>\n",
       "      <th>timestamp</th>\n",
       "      <th>itemid</th>\n",
       "      <th>userid</th>\n",
       "      <th>amount</th>\n",
       "      <th>date</th>\n",
       "    </tr>\n",
       "  </thead>\n",
       "  <tbody>\n",
       "    <tr>\n",
       "      <th>23</th>\n",
       "      <td>1</td>\n",
       "      <td>1079</td>\n",
       "      <td>4.0</td>\n",
       "      <td>1094785665</td>\n",
       "      <td>1079</td>\n",
       "      <td>1</td>\n",
       "      <td>1</td>\n",
       "      <td>1094785665</td>\n",
       "    </tr>\n",
       "    <tr>\n",
       "      <th>96</th>\n",
       "      <td>1</td>\n",
       "      <td>2959</td>\n",
       "      <td>4.0</td>\n",
       "      <td>1094785698</td>\n",
       "      <td>2959</td>\n",
       "      <td>1</td>\n",
       "      <td>1</td>\n",
       "      <td>1094785698</td>\n",
       "    </tr>\n",
       "    <tr>\n",
       "      <th>111</th>\n",
       "      <td>1</td>\n",
       "      <td>3996</td>\n",
       "      <td>4.0</td>\n",
       "      <td>1094785727</td>\n",
       "      <td>3996</td>\n",
       "      <td>1</td>\n",
       "      <td>1</td>\n",
       "      <td>1094785727</td>\n",
       "    </tr>\n",
       "    <tr>\n",
       "      <th>6</th>\n",
       "      <td>1</td>\n",
       "      <td>151</td>\n",
       "      <td>4.0</td>\n",
       "      <td>1094785734</td>\n",
       "      <td>151</td>\n",
       "      <td>1</td>\n",
       "      <td>1</td>\n",
       "      <td>1094785734</td>\n",
       "    </tr>\n",
       "    <tr>\n",
       "      <th>58</th>\n",
       "      <td>1</td>\n",
       "      <td>1374</td>\n",
       "      <td>4.0</td>\n",
       "      <td>1094785746</td>\n",
       "      <td>1374</td>\n",
       "      <td>1</td>\n",
       "      <td>1</td>\n",
       "      <td>1094785746</td>\n",
       "    </tr>\n",
       "    <tr>\n",
       "      <th>...</th>\n",
       "      <td>...</td>\n",
       "      <td>...</td>\n",
       "      <td>...</td>\n",
       "      <td>...</td>\n",
       "      <td>...</td>\n",
       "      <td>...</td>\n",
       "      <td>...</td>\n",
       "      <td>...</td>\n",
       "    </tr>\n",
       "    <tr>\n",
       "      <th>19999942</th>\n",
       "      <td>138493</td>\n",
       "      <td>823</td>\n",
       "      <td>4.5</td>\n",
       "      <td>1260209589</td>\n",
       "      <td>823</td>\n",
       "      <td>138493</td>\n",
       "      <td>1</td>\n",
       "      <td>1260209589</td>\n",
       "    </tr>\n",
       "    <tr>\n",
       "      <th>20000257</th>\n",
       "      <td>138493</td>\n",
       "      <td>68319</td>\n",
       "      <td>4.5</td>\n",
       "      <td>1260209720</td>\n",
       "      <td>68319</td>\n",
       "      <td>138493</td>\n",
       "      <td>1</td>\n",
       "      <td>1260209720</td>\n",
       "    </tr>\n",
       "    <tr>\n",
       "      <th>20000213</th>\n",
       "      <td>138493</td>\n",
       "      <td>40819</td>\n",
       "      <td>4.5</td>\n",
       "      <td>1260209726</td>\n",
       "      <td>40819</td>\n",
       "      <td>138493</td>\n",
       "      <td>1</td>\n",
       "      <td>1260209726</td>\n",
       "    </tr>\n",
       "    <tr>\n",
       "      <th>20000200</th>\n",
       "      <td>138493</td>\n",
       "      <td>33794</td>\n",
       "      <td>4.0</td>\n",
       "      <td>1260209811</td>\n",
       "      <td>33794</td>\n",
       "      <td>138493</td>\n",
       "      <td>1</td>\n",
       "      <td>1260209811</td>\n",
       "    </tr>\n",
       "    <tr>\n",
       "      <th>20000242</th>\n",
       "      <td>138493</td>\n",
       "      <td>53464</td>\n",
       "      <td>4.0</td>\n",
       "      <td>1260209920</td>\n",
       "      <td>53464</td>\n",
       "      <td>138493</td>\n",
       "      <td>1</td>\n",
       "      <td>1260209920</td>\n",
       "    </tr>\n",
       "  </tbody>\n",
       "</table>\n",
       "<p>9995410 rows × 8 columns</p>\n",
       "</div>"
      ],
      "text/plain": [
       "          userId  movieId  rating   timestamp itemid  userid  amount  \\\n",
       "23             1     1079     4.0  1094785665   1079       1       1   \n",
       "96             1     2959     4.0  1094785698   2959       1       1   \n",
       "111            1     3996     4.0  1094785727   3996       1       1   \n",
       "6              1      151     4.0  1094785734    151       1       1   \n",
       "58             1     1374     4.0  1094785746   1374       1       1   \n",
       "...          ...      ...     ...         ...    ...     ...     ...   \n",
       "19999942  138493      823     4.5  1260209589    823  138493       1   \n",
       "20000257  138493    68319     4.5  1260209720  68319  138493       1   \n",
       "20000213  138493    40819     4.5  1260209726  40819  138493       1   \n",
       "20000200  138493    33794     4.0  1260209811  33794  138493       1   \n",
       "20000242  138493    53464     4.0  1260209920  53464  138493       1   \n",
       "\n",
       "                date  \n",
       "23        1094785665  \n",
       "96        1094785698  \n",
       "111       1094785727  \n",
       "6         1094785734  \n",
       "58        1094785746  \n",
       "...              ...  \n",
       "19999942  1260209589  \n",
       "20000257  1260209720  \n",
       "20000213  1260209726  \n",
       "20000200  1260209811  \n",
       "20000242  1260209920  \n",
       "\n",
       "[9995410 rows x 8 columns]"
      ]
     },
     "execution_count": 5,
     "metadata": {},
     "output_type": "execute_result"
    }
   ],
   "source": [
    "interactions['itemid'] = interactions['movieId'].apply(str)\n",
    "interactions['userid'] = interactions['userId'].apply(str)\n",
    "interactions['amount'] = 1\n",
    "interactions['date'] = interactions['timestamp']\n",
    "interactions[['itemid', 'userid','amount','date']]\n",
    "interactions"
   ]
  },
  {
   "cell_type": "code",
   "execution_count": 44,
   "metadata": {},
   "outputs": [],
   "source": [
    "interactions.to_json('../data/ml-20m/processed/purchases.json')"
   ]
  },
  {
   "cell_type": "code",
   "execution_count": 6,
   "metadata": {},
   "outputs": [
    {
     "data": {
      "text/html": [
       "<div>\n",
       "<style scoped>\n",
       "    .dataframe tbody tr th:only-of-type {\n",
       "        vertical-align: middle;\n",
       "    }\n",
       "\n",
       "    .dataframe tbody tr th {\n",
       "        vertical-align: top;\n",
       "    }\n",
       "\n",
       "    .dataframe thead th {\n",
       "        text-align: right;\n",
       "    }\n",
       "</style>\n",
       "<table border=\"1\" class=\"dataframe\">\n",
       "  <thead>\n",
       "    <tr style=\"text-align: right;\">\n",
       "      <th></th>\n",
       "      <th>userId</th>\n",
       "      <th>itemids</th>\n",
       "    </tr>\n",
       "  </thead>\n",
       "  <tbody>\n",
       "    <tr>\n",
       "      <th>23</th>\n",
       "      <td>1</td>\n",
       "      <td>1079,2959,3996,151,1374,2291,4306,1214,1278,12...</td>\n",
       "    </tr>\n",
       "    <tr>\n",
       "      <th>176</th>\n",
       "      <td>2</td>\n",
       "      <td>62,1210,1356,1974,2951,110,589,1259,2948,3513,...</td>\n",
       "    </tr>\n",
       "    <tr>\n",
       "      <th>257</th>\n",
       "      <td>3</td>\n",
       "      <td>589,1721,2118,2710,2722,2448,2505,2694,858,122...</td>\n",
       "    </tr>\n",
       "    <tr>\n",
       "      <th>424</th>\n",
       "      <td>4</td>\n",
       "      <td>10,356,454,480,589,377,586,350,368,370,594,520...</td>\n",
       "    </tr>\n",
       "    <tr>\n",
       "      <th>455</th>\n",
       "      <td>5</td>\n",
       "      <td>62,141,736,780,671,832,1042,1393,150,590,380,4...</td>\n",
       "    </tr>\n",
       "    <tr>\n",
       "      <th>...</th>\n",
       "      <td>...</td>\n",
       "      <td>...</td>\n",
       "    </tr>\n",
       "    <tr>\n",
       "      <th>19999614</th>\n",
       "      <td>138489</td>\n",
       "      <td>1275,1747,3671,1061,2021,29,318,858,50,2019,91...</td>\n",
       "    </tr>\n",
       "    <tr>\n",
       "      <th>19999644</th>\n",
       "      <td>138490</td>\n",
       "      <td>111,3217,3654,3897,1535,2589,199,277,1735,1280...</td>\n",
       "    </tr>\n",
       "    <tr>\n",
       "      <th>19999790</th>\n",
       "      <td>138491</td>\n",
       "      <td>1093,4128,3186,2857,6874</td>\n",
       "    </tr>\n",
       "    <tr>\n",
       "      <th>19999841</th>\n",
       "      <td>138492</td>\n",
       "      <td>2115,908,58,2599,1500,1358,1288,1732,1252,1234...</td>\n",
       "    </tr>\n",
       "    <tr>\n",
       "      <th>20000071</th>\n",
       "      <td>138493</td>\n",
       "      <td>3174,2872,48780,2662,1566,2857,2367,3996,7090,...</td>\n",
       "    </tr>\n",
       "  </tbody>\n",
       "</table>\n",
       "<p>138287 rows × 2 columns</p>\n",
       "</div>"
      ],
      "text/plain": [
       "          userId                                            itemids\n",
       "23             1  1079,2959,3996,151,1374,2291,4306,1214,1278,12...\n",
       "176            2  62,1210,1356,1974,2951,110,589,1259,2948,3513,...\n",
       "257            3  589,1721,2118,2710,2722,2448,2505,2694,858,122...\n",
       "424            4  10,356,454,480,589,377,586,350,368,370,594,520...\n",
       "455            5  62,141,736,780,671,832,1042,1393,150,590,380,4...\n",
       "...          ...                                                ...\n",
       "19999614  138489  1275,1747,3671,1061,2021,29,318,858,50,2019,91...\n",
       "19999644  138490  111,3217,3654,3897,1535,2589,199,277,1735,1280...\n",
       "19999790  138491                           1093,4128,3186,2857,6874\n",
       "19999841  138492  2115,908,58,2599,1500,1358,1288,1732,1252,1234...\n",
       "20000071  138493  3174,2872,48780,2662,1566,2857,2367,3996,7090,...\n",
       "\n",
       "[138287 rows x 2 columns]"
      ]
     },
     "execution_count": 6,
     "metadata": {},
     "output_type": "execute_result"
    }
   ],
   "source": [
    "interactions['itemids'] = interactions[['userid','itemid']].groupby(['userid'])['itemid'].transform(lambda x : ','.join(x))\n",
    "iii = interactions[['userId','itemids']].drop_duplicates()\n",
    "iii"
   ]
  },
  {
   "cell_type": "code",
   "execution_count": 46,
   "metadata": {},
   "outputs": [],
   "source": [
    "iii.to_json('../data/ml-20m/processed/purchases_txt.json')"
   ]
  },
  {
   "cell_type": "code",
   "execution_count": null,
   "metadata": {},
   "outputs": [],
   "source": []
  },
  {
   "cell_type": "code",
   "execution_count": 7,
   "metadata": {},
   "outputs": [
    {
     "data": {
      "text/html": [
       "<div>\n",
       "<style scoped>\n",
       "    .dataframe tbody tr th:only-of-type {\n",
       "        vertical-align: middle;\n",
       "    }\n",
       "\n",
       "    .dataframe tbody tr th {\n",
       "        vertical-align: top;\n",
       "    }\n",
       "\n",
       "    .dataframe thead th {\n",
       "        text-align: right;\n",
       "    }\n",
       "</style>\n",
       "<table border=\"1\" class=\"dataframe\">\n",
       "  <thead>\n",
       "    <tr style=\"text-align: right;\">\n",
       "      <th></th>\n",
       "      <th>itemid</th>\n",
       "      <th>nr_of_purchases</th>\n",
       "    </tr>\n",
       "  </thead>\n",
       "  <tbody>\n",
       "    <tr>\n",
       "      <th>6620</th>\n",
       "      <td>318</td>\n",
       "      <td>55705</td>\n",
       "    </tr>\n",
       "    <tr>\n",
       "      <th>6186</th>\n",
       "      <td>296</td>\n",
       "      <td>52265</td>\n",
       "    </tr>\n",
       "    <tr>\n",
       "      <th>12160</th>\n",
       "      <td>593</td>\n",
       "      <td>50061</td>\n",
       "    </tr>\n",
       "    <tr>\n",
       "      <th>7545</th>\n",
       "      <td>356</td>\n",
       "      <td>47302</td>\n",
       "    </tr>\n",
       "    <tr>\n",
       "      <th>4894</th>\n",
       "      <td>260</td>\n",
       "      <td>42578</td>\n",
       "    </tr>\n",
       "    <tr>\n",
       "      <th>...</th>\n",
       "      <td>...</td>\n",
       "      <td>...</td>\n",
       "    </tr>\n",
       "    <tr>\n",
       "      <th>3318</th>\n",
       "      <td>131050</td>\n",
       "      <td>1</td>\n",
       "    </tr>\n",
       "    <tr>\n",
       "      <th>3317</th>\n",
       "      <td>131027</td>\n",
       "      <td>1</td>\n",
       "    </tr>\n",
       "    <tr>\n",
       "      <th>3316</th>\n",
       "      <td>131023</td>\n",
       "      <td>1</td>\n",
       "    </tr>\n",
       "    <tr>\n",
       "      <th>3313</th>\n",
       "      <td>130996</td>\n",
       "      <td>1</td>\n",
       "    </tr>\n",
       "    <tr>\n",
       "      <th>20719</th>\n",
       "      <td>99999</td>\n",
       "      <td>1</td>\n",
       "    </tr>\n",
       "  </tbody>\n",
       "</table>\n",
       "<p>20720 rows × 2 columns</p>\n",
       "</div>"
      ],
      "text/plain": [
       "       itemid  nr_of_purchases\n",
       "6620      318            55705\n",
       "6186      296            52265\n",
       "12160     593            50061\n",
       "7545      356            47302\n",
       "4894      260            42578\n",
       "...       ...              ...\n",
       "3318   131050                1\n",
       "3317   131027                1\n",
       "3316   131023                1\n",
       "3313   130996                1\n",
       "20719   99999                1\n",
       "\n",
       "[20720 rows x 2 columns]"
      ]
     },
     "execution_count": 7,
     "metadata": {},
     "output_type": "execute_result"
    }
   ],
   "source": [
    "purchases=pd.read_json('../data/ml-20m/processed/purchases.json')\n",
    "purchases['userid'] = purchases.userid.apply(str)\n",
    "purchases['itemid'] = purchases.itemid.apply(str)\n",
    "purchases_item_counts = purchases[['userid','itemid']]\n",
    "purchases_user_counts = purchases[['userid','itemid']]\n",
    "purchases_user_count = purchases.groupby(['userid']).size().to_frame('nr_of_purchases').reset_index()\n",
    "purchases_user_count = purchases_user_count.sort_values(by=['nr_of_purchases'], ascending=False)\n",
    "pu5=purchases_user_count[purchases_user_count.nr_of_purchases>=5]\n",
    "purchases_pu5 = purchases[purchases.userid.isin(pu5.userid)]\n",
    "purchases_item_count_pu5 = purchases_pu5.groupby(['itemid']).size().to_frame('nr_of_purchases').reset_index()\n",
    "purchases_item_count_pu5 = purchases_item_count_pu5.sort_values(by=['nr_of_purchases'], ascending=False)\n",
    "purchases_item_count_pu5"
   ]
  },
  {
   "cell_type": "code",
   "execution_count": null,
   "metadata": {},
   "outputs": [],
   "source": [
    "purchases_pu5.to_json('../data/ml-20m/processed/purchases_pu5.json')"
   ]
  },
  {
   "cell_type": "code",
   "execution_count": 8,
   "metadata": {},
   "outputs": [
    {
     "name": "stderr",
     "output_type": "stream",
     "text": [
      "<ipython-input-8-dca95e343ced>:1: SettingWithCopyWarning: \n",
      "A value is trying to be set on a copy of a slice from a DataFrame.\n",
      "Try using .loc[row_indexer,col_indexer] = value instead\n",
      "\n",
      "See the caveats in the documentation: https://pandas.pydata.org/pandas-docs/stable/user_guide/indexing.html#returning-a-view-versus-a-copy\n",
      "  purchases_pu5['itemids'] = purchases_pu5[['userid','itemid']].groupby(['userid'])['itemid'].transform(lambda x: ','.join(x))\n"
     ]
    }
   ],
   "source": [
    "purchases_pu5['itemids'] = purchases_pu5[['userid','itemid']].groupby(['userid'])['itemid'].transform(lambda x: ','.join(x))\n",
    "iii = purchases_pu5[['userId','itemids']].drop_duplicates()\n",
    "iii['userid']=iii['userId'].apply(str)\n",
    "iii = iii[['userid','itemids']]\n"
   ]
  },
  {
   "cell_type": "code",
   "execution_count": null,
   "metadata": {},
   "outputs": [],
   "source": [
    "iii.to_json('../data/ml-20m/processed/purchases_txt_pu5.json')"
   ]
  },
  {
   "cell_type": "code",
   "execution_count": 49,
   "metadata": {},
   "outputs": [],
   "source": [
    "iii['userid'].to_frame().to_json('../data/ml-20m/processed/users_pu5.json')"
   ]
  },
  {
   "cell_type": "code",
   "execution_count": 50,
   "metadata": {},
   "outputs": [],
   "source": [
    "\n",
    "items[items.itemid.isin(purchases_item_count_pu5.itemid)].to_json(\"../data/ml-20m/processed/items_pu5.json\")"
   ]
  },
  {
   "cell_type": "code",
   "execution_count": 51,
   "metadata": {},
   "outputs": [],
   "source": [
    "purchases_item_count_pu5.to_json(\"../data/ml-20m/processed/items_sorted_pu5.json\")"
   ]
  },
  {
   "cell_type": "code",
   "execution_count": 52,
   "metadata": {},
   "outputs": [],
   "source": [
    "\n",
    "pu5.to_json(\"../data/ml-20m/processed/users_sorted_pu5.json\")"
   ]
  },
  {
   "cell_type": "code",
   "execution_count": 10,
   "metadata": {},
   "outputs": [
    {
     "name": "stdout",
     "output_type": "stream",
     "text": [
      "Total users with pu5 136677\n"
     ]
    },
    {
     "data": {
      "text/plain": [
       "(116677, 10000, 10000)"
      ]
     },
     "execution_count": 10,
     "metadata": {},
     "output_type": "execute_result"
    }
   ],
   "source": [
    "\n",
    "users = pd.read_json('../data/ml-20m/processed/users_pu5.json')\n",
    "shuffled_users = users.sample(frac=1., random_state=42)\n",
    "test_users = shuffled_users.iloc[:10000]\n",
    "val_users = shuffled_users.iloc[10000:20000]\n",
    "train_users = shuffled_users.iloc[20000:]\n",
    "\n",
    "test_users.to_json(\"../data/ml-20m/processed/test_users.json\")\n",
    "val_users.to_json(\"../data/ml-20m/processed/val_users.json\")\n",
    "train_users.to_json(\"../data/ml-20m/processed/train_users.json\") \n",
    "\n",
    "print(\"Total users with pu5\", len(users))\n",
    "len(train_users),len(val_users),len(test_users)\n",
    "\n"
   ]
  },
  {
   "cell_type": "markdown",
   "metadata": {},
   "source": [
    "## Selecting a subset of users for model finding, "
   ]
  },
  {
   "cell_type": "code",
   "execution_count": 19,
   "metadata": {},
   "outputs": [
    {
     "name": "stdout",
     "output_type": "stream",
     "text": [
      "Total few users with pu5 27335\n"
     ]
    },
    {
     "data": {
      "text/plain": [
       "(22335, 2500, 2500)"
      ]
     },
     "execution_count": 19,
     "metadata": {},
     "output_type": "execute_result"
    }
   ],
   "source": [
    "users = pd.read_json('../data/ml-20m/processed/users_pu5.json')\n",
    "few_shuffled_users = users.sample(frac=.2, random_state=42) # 27335\n",
    "few_test_users = few_shuffled_users.iloc[:2500]\n",
    "few_val_users = few_shuffled_users.iloc[2500:5000]\n",
    "few_train_users = few_shuffled_users.iloc[5000:]\n",
    "\n",
    "few_test_users.to_json(\"../data/ml-20m/small_processed/few_test_users.json\")\n",
    "few_val_users.to_json(\"../data/ml-20m/small_processed/few_val_users.json\")\n",
    "few_train_users.to_json(\"../data/ml-20m/small_processed/few_train_users.json\") \n",
    "\n",
    "print(\"Total few users with pu5\", len(few_shuffled_users))\n",
    "len(few_train_users),len(few_val_users),len(few_test_users)"
   ]
  },
  {
   "cell_type": "code",
   "execution_count": 54,
   "metadata": {},
   "outputs": [
    {
     "name": "stdout",
     "output_type": "stream",
     "text": [
      "../data/ml-20m/processed/items.json\n",
      "../data/ml-20m/processed/items_pu5.json\n",
      "../data/ml-20m/processed/items_sorted_pu5.json\n",
      "../data/ml-20m/processed/purchases.json\n",
      "../data/ml-20m/processed/purchases_pu5.json\n",
      "../data/ml-20m/processed/purchases_txt.json\n",
      "../data/ml-20m/processed/purchases_txt_pu5.json\n",
      "../data/ml-20m/processed/test_users.json\n",
      "../data/ml-20m/processed/train_users.json\n",
      "../data/ml-20m/processed/users_pu5.json\n",
      "../data/ml-20m/processed/users_sorted_pu5.json\n",
      "../data/ml-20m/processed/val_users.json\n"
     ]
    }
   ],
   "source": [
    "!ls ../data/ml-20m/processed/*.json"
   ]
  },
  {
   "cell_type": "code",
   "execution_count": 61,
   "metadata": {},
   "outputs": [
    {
     "data": {
      "text/plain": [
       "(604, 605, 4825)"
      ]
     },
     "execution_count": 61,
     "metadata": {},
     "output_type": "execute_result"
    }
   ],
   "source": [
    "# users_s = pd.read_json('../data/ml-1m/processed/users_pu5.json')\n",
    "# shuffled_users_s = users_s.sample(frac=1., random_state=42)\n",
    "# test_users_s = shuffled_users_s.iloc[:604]\n",
    "# val_users_s = shuffled_users_s.iloc[604:1209]\n",
    "# train_users_s = shuffled_users_s.iloc[1209:]\n",
    "\n",
    "# test_users_s.to_json(\"../data/ml-1m/processed/test_users.json\")\n",
    "# val_users_s.to_json(\"../data/ml-1m/processed/val_users.json\")\n",
    "# train_users_s.to_json(\"../data/ml-1m/processed/train_users.json\") \n",
    "# len(test_users_s),len(val_users_s), len(train_users_s)"
   ]
  },
  {
   "cell_type": "code",
   "execution_count": null,
   "metadata": {},
   "outputs": [],
   "source": []
  }
 ],
 "metadata": {
  "interpreter": {
   "hash": "c3aa81f53feaf22594607225e353cd7b61927a2847d5a10e1d40f929f7c9ceb6"
  },
  "kernelspec": {
   "display_name": "Python 3.8.5 ('airflow')",
   "language": "python",
   "name": "python3"
  },
  "language_info": {
   "codemirror_mode": {
    "name": "ipython",
    "version": 3
   },
   "file_extension": ".py",
   "mimetype": "text/x-python",
   "name": "python",
   "nbconvert_exporter": "python",
   "pygments_lexer": "ipython3",
   "version": "3.8.5"
  },
  "orig_nbformat": 4
 },
 "nbformat": 4,
 "nbformat_minor": 2
}
